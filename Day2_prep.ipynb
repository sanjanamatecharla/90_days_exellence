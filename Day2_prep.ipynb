{
 "cells": [
  {
   "cell_type": "markdown",
   "id": "93ee11df",
   "metadata": {},
   "source": [
    "# Day 2:\n",
    "\n",
    "1. Task 1: Write a Python program to find the largest and smallest elements in a given \n",
    "    list without using built-in functions like `max()` and `min()`.\n",
    "2. Task 2: Implement a function that reverses a list in-place \n",
    "    (i.e., without creating a new list)."
   ]
  },
  {
   "cell_type": "code",
   "execution_count": 1,
   "id": "a164ac92",
   "metadata": {},
   "outputs": [],
   "source": [
    "import pandas as pd\n",
    "import numpy as np"
   ]
  },
  {
   "cell_type": "code",
   "execution_count": 13,
   "id": "7c0a7bab",
   "metadata": {},
   "outputs": [],
   "source": [
    "# Task1\n",
    "num_list = [1,4,3,9,5,6,7,8]"
   ]
  },
  {
   "cell_type": "code",
   "execution_count": 34,
   "id": "1edb2c2d",
   "metadata": {},
   "outputs": [],
   "source": [
    "def min_num(num_list):\n",
    "    min_number = None\n",
    "    for number in num_list:\n",
    "        if min_number is None or number < min_number:\n",
    "            min_number = number\n",
    "    return min_number\n",
    "\n",
    "\n",
    "# Time complexity is O(n) --> cause we have 1 loop\n",
    "# space complexity is O(1) --> cause we have only the input list "
   ]
  },
  {
   "cell_type": "code",
   "execution_count": 36,
   "id": "b3a19b71",
   "metadata": {},
   "outputs": [],
   "source": [
    "def max_num(num_list):\n",
    "    max_number = None\n",
    "    for number in num_list:\n",
    "        if max_number is None or number > max_number:\n",
    "            max_number = number\n",
    "    return max_number\n",
    "\n",
    "# Time complexity is O(n) --> cause we have 1 loop\n",
    "# space complexity is O(1) --> cause we have only the input list "
   ]
  },
  {
   "cell_type": "code",
   "execution_count": 56,
   "id": "4661d1e8",
   "metadata": {},
   "outputs": [],
   "source": [
    "def min_max_num(num_list):\n",
    "    max_number = None\n",
    "    min_number = None\n",
    "    for number in num_list:\n",
    "        if max_number is None or number > max_number:\n",
    "            max_number = number\n",
    "        elif min_number is None or number < min_number:\n",
    "            min_number = number\n",
    "    return 'maxnumber:',max_number,'minnumber:',min_number\n",
    "    "
   ]
  },
  {
   "cell_type": "code",
   "execution_count": 57,
   "id": "b3c618bb",
   "metadata": {},
   "outputs": [
    {
     "data": {
      "text/plain": [
       "('maxnumber:', 7, 'minnumber:', 1)"
      ]
     },
     "execution_count": 57,
     "metadata": {},
     "output_type": "execute_result"
    }
   ],
   "source": [
    "min_max_num([3,5,2,7,1])"
   ]
  },
  {
   "cell_type": "code",
   "execution_count": 37,
   "id": "9973e118",
   "metadata": {},
   "outputs": [
    {
     "data": {
      "text/plain": [
       "7"
      ]
     },
     "execution_count": 37,
     "metadata": {},
     "output_type": "execute_result"
    }
   ],
   "source": [
    "max_num([3,5,2,7,1])"
   ]
  },
  {
   "cell_type": "markdown",
   "id": "1cca2422",
   "metadata": {},
   "source": [
    " Task2:\n",
    " Implement a function that reverses a list in-place (i.e., without creating a new list)"
   ]
  },
  {
   "cell_type": "code",
   "execution_count": 38,
   "id": "baaf1aae",
   "metadata": {},
   "outputs": [],
   "source": [
    "a = [3,2,1]"
   ]
  },
  {
   "cell_type": "code",
   "execution_count": 49,
   "id": "32430b56",
   "metadata": {},
   "outputs": [
    {
     "data": {
      "text/plain": [
       "[1, 2, 3]"
      ]
     },
     "execution_count": 49,
     "metadata": {},
     "output_type": "execute_result"
    }
   ],
   "source": [
    "a[::-1] # reversing a list"
   ]
  },
  {
   "cell_type": "code",
   "execution_count": 43,
   "id": "db8f1437",
   "metadata": {},
   "outputs": [],
   "source": [
    "def reverse_list(sample_list):\n",
    "    return sample_list[::-1]"
   ]
  },
  {
   "cell_type": "code",
   "execution_count": 45,
   "id": "cd8991ca",
   "metadata": {},
   "outputs": [
    {
     "data": {
      "text/plain": [
       "['i', 'am', 'sanju', 'my', 'age', 'is', 24]"
      ]
     },
     "execution_count": 45,
     "metadata": {},
     "output_type": "execute_result"
    }
   ],
   "source": [
    "reverse_list([24,'is','age','my','sanju','am','i'])"
   ]
  },
  {
   "cell_type": "markdown",
   "id": "8b1fb21b",
   "metadata": {},
   "source": [
    "# practise of sorting algorithms\n",
    "\n",
    "### -->  Merge sort \n",
    "### -->  Heap sort \n",
    "### -->  Quick sort \n",
    "### -->  Insertion sort \n",
    "### -->  Selection sort \n",
    "### -->  Radix sort \n",
    "### -->  Bubble sort "
   ]
  },
  {
   "cell_type": "code",
   "execution_count": null,
   "id": "8546e445",
   "metadata": {},
   "outputs": [],
   "source": [
    "# merge sort understand merge sort and write code in python to apply merge sort on list\n"
   ]
  }
 ],
 "metadata": {
  "kernelspec": {
   "display_name": "Python 3 (ipykernel)",
   "language": "python",
   "name": "python3"
  },
  "language_info": {
   "codemirror_mode": {
    "name": "ipython",
    "version": 3
   },
   "file_extension": ".py",
   "mimetype": "text/x-python",
   "name": "python",
   "nbconvert_exporter": "python",
   "pygments_lexer": "ipython3",
   "version": "3.10.9"
  }
 },
 "nbformat": 4,
 "nbformat_minor": 5
}
