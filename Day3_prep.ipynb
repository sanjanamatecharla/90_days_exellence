{
 "cells": [
  {
   "cell_type": "markdown",
   "id": "aee4a052",
   "metadata": {},
   "source": [
    "# Day 3:\n",
    "\n",
    "Task 1: Create a dictionary representing a simple inventory management system. \n",
    "        Implement functions to add, remove, and update items in the inventory.\n",
    "\n",
    "Task 2: Write a program that counts the frequency of each word in a given text and stores\n",
    "    the results in a dictionary."
   ]
  },
  {
   "cell_type": "code",
   "execution_count": 8,
   "id": "5a4774da",
   "metadata": {},
   "outputs": [],
   "source": [
    "# TASK1\n",
    "\n",
    "# create a dictionary representing a simple inventory management system. implement functions\n",
    "# to add, remove and update items in inventory.\n",
    "\n",
    "inventory_system = {\n",
    "    \"products\": {\n",
    "        \"P001\": {\"name\": \"Product 1\", \"price\": 19.99, \"quantity\": 100, \"category\": \"Electronics\"},\n",
    "        \"P002\": {\"name\": \"Product 2\", \"price\": 29.99, \"quantity\": 50, \"category\": \"Clothing\"},\n",
    "        \"P003\": {\"name\": \"Product 3\", \"price\": 9.99, \"quantity\": 200, \"category\": \"Accessories\"},\n",
    "    },\n",
    "    \"orders\": {\n",
    "        \"O001\": {\"customer\": \"Customer A\", \"products\": {\"P001\": 2, \"P003\": 1}, \"status\": \"Shipped\"},\n",
    "        \"O002\": {\"customer\": \"Customer B\", \"products\": {\"P002\": 3}, \"status\": \"Processing\"},\n",
    "        \"O003\": {\"customer\":\"Customer C\",\"products\":{\"P002\":4},\"status\":\"Processing\"}\n",
    "    },\n",
    "    \"suppliers\": {\n",
    "        \"S001\": {\"name\": \"Supplier X\", \"products_supplied\": [\"P001\", \"P002\"]},\n",
    "        \"S002\": {\"name\": \"Supplier Y\", \"products_supplied\": [\"P003\"]},\n",
    "        \"S003\": {\"name\": \"Supplier Z\",\"products_supplied\":[\"P1\",\"P2\"]},\n",
    "    }}\n",
    "  "
   ]
  },
  {
   "cell_type": "code",
   "execution_count": 31,
   "id": "4674ade9",
   "metadata": {},
   "outputs": [],
   "source": [
    "def add_item(dictionary, key, value):\n",
    "    dictionary[key] = value\n",
    "\n",
    "def update_item(dictionary, key, new_value):\n",
    "    if key in dictionary:\n",
    "        dictionary[key] = new_value\n",
    "    else:\n",
    "        print(f\"Key '{key}' not found in the dictionary.\")\n",
    "\n",
    "def remove_item(dictionary, key):\n",
    "    if key in dictionary:\n",
    "        del dictionary[key]\n",
    "    else:\n",
    "        print(f\"Key '{key}' not found in the dictionary.\")\n",
    "\n",
    "def remove_item_pop(dictionary, key):\n",
    "    if key in dictionary:\n",
    "        removed_value = dictionary.pop(key)\n",
    "        print(f\"Removed item with key '{key}' and value '{removed_value}'.\")\n",
    "    else:\n",
    "        print(f\"Key '{key}' not found in the dictionary.\")\n"
   ]
  },
  {
   "cell_type": "code",
   "execution_count": 32,
   "id": "550e6a05",
   "metadata": {},
   "outputs": [],
   "source": [
    "add_item(inventory_system,'new1','hello')"
   ]
  },
  {
   "cell_type": "code",
   "execution_count": 35,
   "id": "2cc567d3",
   "metadata": {},
   "outputs": [],
   "source": [
    "update_item(inventory_system,'new1','hello1')"
   ]
  },
  {
   "cell_type": "code",
   "execution_count": 38,
   "id": "ea83bc7b",
   "metadata": {},
   "outputs": [],
   "source": [
    "remove_item(inventory_system,'new1')"
   ]
  },
  {
   "cell_type": "code",
   "execution_count": 40,
   "id": "f082f11e",
   "metadata": {},
   "outputs": [
    {
     "name": "stdout",
     "output_type": "stream",
     "text": [
      "Removed item with key 'P003' and value 'p003'.\n"
     ]
    }
   ],
   "source": [
    "remove_item_pop(inventory_system, 'P003')"
   ]
  },
  {
   "cell_type": "code",
   "execution_count": 41,
   "id": "eb7e1f13",
   "metadata": {},
   "outputs": [
    {
     "data": {
      "text/plain": [
       "{'products': {'P001': {'name': 'Product 1',\n",
       "   'price': 19.99,\n",
       "   'quantity': 100,\n",
       "   'category': 'Electronics'},\n",
       "  'P002': {'name': 'Product 2',\n",
       "   'price': 29.99,\n",
       "   'quantity': 50,\n",
       "   'category': 'Clothing'},\n",
       "  'p003': {'name': 'Product 3',\n",
       "   'price': 9.99,\n",
       "   'quantity': 200,\n",
       "   'category': 'Accessories'}},\n",
       " 'orders': {'O001': {'customer': 'Customer A',\n",
       "   'products': {'P001': 2, 'P003': 1},\n",
       "   'status': 'Shipped'},\n",
       "  'O002': {'customer': 'Customer B',\n",
       "   'products': {'P002': 3},\n",
       "   'status': 'Processing'},\n",
       "  'O003': {'customer': 'Customer C',\n",
       "   'products': {'P002': 4},\n",
       "   'status': 'Processing'}},\n",
       " 'suppliers': {'S001': {'name': 'Supplier X',\n",
       "   'products_supplied': ['P001', 'P002']},\n",
       "  'S002': {'name': 'Supplier Y', 'products_supplied': ['P003']},\n",
       "  'S003': {'name': 'Supplier Z', 'products_supplied': ['P1', 'P2']}}}"
      ]
     },
     "execution_count": 41,
     "metadata": {},
     "output_type": "execute_result"
    }
   ],
   "source": [
    "inventory_system"
   ]
  },
  {
   "cell_type": "code",
   "execution_count": null,
   "id": "4e71722f",
   "metadata": {},
   "outputs": [],
   "source": [
    "# Task 2: Write a program that counts the frequency of each word\n",
    "# in a given text and stores the results in a dictionary."
   ]
  },
  {
   "cell_type": "code",
   "execution_count": 45,
   "id": "fbbba24c",
   "metadata": {},
   "outputs": [
    {
     "name": "stdout",
     "output_type": "stream",
     "text": [
      "{'i': 2, 'like': 2, 'chicken': 1, 'which': 1, 'more': 1, 'in': 1, 'KFC': 2, 'is': 1, 'good': 2, 'delicious': 1}\n"
     ]
    }
   ],
   "source": [
    "text = \"i like chicken which i like more in KFC KFC is good good delicious\"\n",
    "words = []\n",
    "words = text.split()\n",
    "wfreq=[words.count(i) for i in words]\n",
    "print(dict(zip(words,wfreq)))"
   ]
  },
  {
   "cell_type": "code",
   "execution_count": null,
   "id": "1c36650b",
   "metadata": {},
   "outputs": [],
   "source": []
  },
  {
   "cell_type": "code",
   "execution_count": null,
   "id": "674e9680",
   "metadata": {},
   "outputs": [],
   "source": []
  }
 ],
 "metadata": {
  "kernelspec": {
   "display_name": "Python 3 (ipykernel)",
   "language": "python",
   "name": "python3"
  },
  "language_info": {
   "codemirror_mode": {
    "name": "ipython",
    "version": 3
   },
   "file_extension": ".py",
   "mimetype": "text/x-python",
   "name": "python",
   "nbconvert_exporter": "python",
   "pygments_lexer": "ipython3",
   "version": "3.10.9"
  }
 },
 "nbformat": 4,
 "nbformat_minor": 5
}
