{
 "cells": [
  {
   "cell_type": "code",
   "execution_count": 38,
   "id": "e41f6a90",
   "metadata": {},
   "outputs": [],
   "source": [
    "import pandas as pd\n",
    "import numpy as np \n",
    "import random"
   ]
  },
  {
   "cell_type": "markdown",
   "id": "b478a82c",
   "metadata": {},
   "source": [
    "Day 1: 30-Sept,2023\n",
    "\n",
    "Use numpy and create a list of 10 arrays, with each array containing 10 elements.\n",
    "\n",
    "Then create a dictionary with random 10 keys and assign each of the above arrays to each key.\n",
    "\n",
    "Then iterate through the dictionary one by one and sort each of the arrays."
   ]
  },
  {
   "cell_type": "code",
   "execution_count": 45,
   "id": "96697328",
   "metadata": {},
   "outputs": [],
   "source": [
    "random_array = np.random.randint(10, size = (10,10))"
   ]
  },
  {
   "cell_type": "code",
   "execution_count": 47,
   "id": "82c560ca",
   "metadata": {},
   "outputs": [],
   "source": [
    "dict_1 = {'key1':random_array[0],\n",
    "          'key2':random_array[1],\n",
    "          'key3':random_array[2],\n",
    "          'key4':random_array[3],\n",
    "          'key5':random_array[4],\n",
    "          'key6':random_array[5],\n",
    "          'key7':random_array[6],\n",
    "          'key8':random_array[7],\n",
    "          'key9':random_array[8],\n",
    "          'key10':random_array[9]}"
   ]
  },
  {
   "cell_type": "code",
   "execution_count": 48,
   "id": "28ff5691",
   "metadata": {},
   "outputs": [
    {
     "name": "stdout",
     "output_type": "stream",
     "text": [
      "[1, 1, 2, 2, 2, 2, 4, 6, 9, 9]\n",
      "[2, 2, 3, 3, 4, 6, 8, 8, 9, 9]\n",
      "[0, 0, 1, 1, 2, 2, 3, 6, 7, 9]\n",
      "[0, 0, 2, 3, 4, 5, 7, 7, 8, 8]\n",
      "[0, 0, 0, 1, 3, 4, 4, 5, 6, 7]\n",
      "[0, 3, 4, 5, 5, 6, 6, 7, 7, 9]\n",
      "[0, 0, 1, 1, 2, 2, 2, 4, 6, 6]\n",
      "[0, 2, 3, 3, 4, 5, 7, 7, 9, 9]\n",
      "[0, 0, 2, 3, 3, 4, 4, 4, 5, 9]\n",
      "[0, 1, 1, 3, 3, 4, 5, 7, 8, 9]\n"
     ]
    }
   ],
   "source": [
    "for key,value in dict_1.items():\n",
    "    print(sorted(value))"
   ]
  },
  {
   "cell_type": "markdown",
   "id": "68d4b2f7",
   "metadata": {},
   "source": [
    "What is the time and space complexity of the code used wrote for above problem?? --> O(1) \n",
    "\n",
    "(constant time ie.,even if the input size changes the execution time is unchanged )"
   ]
  },
  {
   "cell_type": "markdown",
   "id": "23f64477",
   "metadata": {},
   "source": [
    "# NOTES\n",
    "\n",
    "## 1) why numpy is better than python list?\n",
    "\n",
    "Ans: Numpy consumes less space then pythonlist and numpy is comparatively faster then python lists.NumPy being the preferred choice for numerical computations and large-scale data processing.\n",
    "    \n",
    "    \n",
    "## 2) What are the real benefits of using dictionaries?\n",
    "\n",
    "Ans: Dictionaries are efficient data structures that store data in key-value pairs. Their benefits include fast data retrieval, flexibility in storing various data types, adaptability to changing data, efficient operations, and the ability to represent real-world relationships. They are widely used in programming for tasks like data analysis, mapping, and efficient data manipulation.\n",
    "\n",
    "    \n",
    "    \n",
    "## 3) What are the different sorting algorithms available? Why do we need different algorithms? Which algorithm is used by default in Python sort?\n",
    "    \n",
    "Ans:There are several sorting algorithms available, each with its own advantages and disadvantages. The choice of sorting algorithm depends on the specific requirements of the task at hand, such as the size of the dataset, the nature of the data, and the resources available. Here are some common sorting algorithms:\n",
    "\n",
    "\n",
    "#### a) Bubble Sort: \n",
    "A simple comparison-based algorithm that repeatedly steps through the list, compares adjacent elements, and swaps them if they are in the wrong order. It has poor performance for large datasets but is easy to understand and implement.\n",
    "\n",
    "#### b) Selection Sort:\n",
    "Another simple algorithm where the list is divided into two parts: sorted and unsorted. The algorithm repeatedly selects the smallest (or largest) element from the unsorted part and swaps it with the first element of the unsorted part. It has poor performance for large datasets but is also straightforward.\n",
    "\n",
    "#### c) Insertion Sort: \n",
    "Similar to how people sort playing cards in their hands, insertion sort builds the sorted array one element at a time by repeatedly taking elements from the input data and inserting them into the correct position within the sorted part of the array.\n",
    "\n",
    "#### d) Merge Sort: \n",
    "A divide and conquer algorithm that divides the unsorted list into N sublists, each containing one element, and then repeatedly merges sublists to produce new sorted sublists until there is only one sublist remaining. Merge sort has a time complexity of O(n log n) but requires additional space for merging.\n",
    "\n",
    "#### e)Quick Sort:\n",
    "Another divide and conquer algorithm that works by selecting a 'pivot' element from the array and partitioning the other elements into two sub-arrays, according to whether they are less than or greater than the pivot. The sub-arrays are then sorted recursively.\n",
    "\n",
    "#### f) Heap Sort:\n",
    "This sorting algorithm works by visualizing the elements of the array as a special kind of binary tree called a heap. The array elements are gradually swapped with the root of the heap, which ensures the largest element moves to the end of the array. Heap sort has a time complexity of O(n log n) and is in-place, meaning it doesn't require additional memory.\n",
    "\n",
    "#### g) Radix Sort:\n",
    "A non-comparative sorting algorithm that works by distributing elements into buckets according to their individual digits. Radix sort can be faster than comparison-based sorting algorithms in certain situations, especially when sorting integers or strings of fixed length.\n",
    "\n",
    "In Python, the default sorting algorithm used by the built-in sorted() function and the sort() method of lists is a variant of Timsort. Timsort is a hybrid sorting algorithm derived from merge sort and insertion sort, designed to perform well on many kinds of real-world data. It's efficient, stable, and adaptive, meaning it performs well on both small and large datasets and maintains the order of equal elements.\n",
    "\n",
    "    \n",
    "    \n",
    "    \n",
    "## 4) What is time complexity and why is it important?\n",
    "Ans: Time complexity refers to the amount of time an algorithm takes for execution, \n",
    "     if a function input increases then the execution time also increases. it is important to know that how fast an \n",
    "     algorithm works if the given input is large. \n",
    "     we have few types of time complexities:\n",
    "        a) Constant time complexity --> O(1)--> No change in execution time if input increases.\n",
    "        b) Linear time complexity -->O(n)--> if the input size doubles, then time taken also doubles.\n",
    "        c) Quadratic time complexity --> O(n^2)-->if the input size doubles, the time taken is 4 times.\n",
    "        d) Exponential time complexity -->O(2^n)--> The time taken doubles with each addition of inputsize.\n",
    "    \n",
    "    \n",
    "## 5) What is space complexity and why is it important?\n",
    "Ans: Space complexity refers to how much memory an algorithm uses,it helps us understand how much additional memory      space is required by the algorithm as the input size increases.simple terms space complexity tells us how much      extra space an algorithm needs when we give it a larger problem to solve.\n",
    "     we have few types of space complexities:\n",
    "        a) Constant space complexity --> O(1)--> No change in excess space if input increases.\n",
    "        b) Linear space complexity --> O(n) --> If the input size doubles, the extra space used also doubles.\n",
    "        c) Quadratic space complexity --> O(n^2)--> If the input size doubles, the extra space used becomes 4 times.\n",
    "        d) Exponential space complexity -->O(2^n)-->  extra space used doubles with each addition to the input size.\n",
    "        \n",
    "Note: Understanding time and space complexity helps in choosing the most efficient algorithms and data structures for solving different problems.\n",
    "     \n",
    " \n",
    "\n",
    "    "
   ]
  },
  {
   "cell_type": "code",
   "execution_count": null,
   "id": "fca8ea14",
   "metadata": {},
   "outputs": [],
   "source": []
  },
  {
   "cell_type": "code",
   "execution_count": null,
   "id": "03a53e75",
   "metadata": {},
   "outputs": [],
   "source": []
  },
  {
   "cell_type": "code",
   "execution_count": null,
   "id": "92b5cfa9",
   "metadata": {},
   "outputs": [],
   "source": []
  },
  {
   "cell_type": "code",
   "execution_count": null,
   "id": "086ec62f",
   "metadata": {},
   "outputs": [],
   "source": []
  },
  {
   "cell_type": "code",
   "execution_count": null,
   "id": "2571b71a",
   "metadata": {},
   "outputs": [],
   "source": []
  },
  {
   "cell_type": "code",
   "execution_count": null,
   "id": "71bb7153",
   "metadata": {},
   "outputs": [],
   "source": []
  },
  {
   "cell_type": "code",
   "execution_count": null,
   "id": "bf8e931e",
   "metadata": {},
   "outputs": [],
   "source": []
  },
  {
   "cell_type": "code",
   "execution_count": null,
   "id": "9a908d7c",
   "metadata": {},
   "outputs": [],
   "source": []
  },
  {
   "cell_type": "code",
   "execution_count": null,
   "id": "115dcdec",
   "metadata": {},
   "outputs": [],
   "source": []
  },
  {
   "cell_type": "code",
   "execution_count": null,
   "id": "5d128e82",
   "metadata": {},
   "outputs": [],
   "source": []
  },
  {
   "cell_type": "code",
   "execution_count": null,
   "id": "1b416e98",
   "metadata": {},
   "outputs": [],
   "source": []
  },
  {
   "cell_type": "code",
   "execution_count": null,
   "id": "aeb65ca0",
   "metadata": {},
   "outputs": [],
   "source": []
  },
  {
   "cell_type": "code",
   "execution_count": null,
   "id": "6767fea4",
   "metadata": {},
   "outputs": [],
   "source": []
  },
  {
   "cell_type": "code",
   "execution_count": null,
   "id": "4e5f87fd",
   "metadata": {},
   "outputs": [],
   "source": []
  },
  {
   "cell_type": "code",
   "execution_count": null,
   "id": "b9664989",
   "metadata": {},
   "outputs": [],
   "source": []
  },
  {
   "cell_type": "code",
   "execution_count": null,
   "id": "f4670773",
   "metadata": {},
   "outputs": [],
   "source": []
  },
  {
   "cell_type": "code",
   "execution_count": null,
   "id": "a6bee117",
   "metadata": {},
   "outputs": [],
   "source": []
  },
  {
   "cell_type": "code",
   "execution_count": null,
   "id": "4378004a",
   "metadata": {},
   "outputs": [],
   "source": []
  },
  {
   "cell_type": "code",
   "execution_count": null,
   "id": "5cedce15",
   "metadata": {},
   "outputs": [],
   "source": []
  },
  {
   "cell_type": "code",
   "execution_count": null,
   "id": "8b405d35",
   "metadata": {},
   "outputs": [],
   "source": []
  },
  {
   "cell_type": "code",
   "execution_count": null,
   "id": "38fffcb1",
   "metadata": {},
   "outputs": [],
   "source": []
  },
  {
   "cell_type": "code",
   "execution_count": null,
   "id": "da3243b2",
   "metadata": {},
   "outputs": [],
   "source": []
  },
  {
   "cell_type": "code",
   "execution_count": 214,
   "id": "295b77e4",
   "metadata": {},
   "outputs": [],
   "source": [
    "data1.fillna(0,inplace = True)"
   ]
  },
  {
   "cell_type": "code",
   "execution_count": 282,
   "id": "0ad606b6",
   "metadata": {},
   "outputs": [
    {
     "name": "stdout",
     "output_type": "stream",
     "text": [
      "Point biserial correlation coefficient: 0.02\n",
      "P-value: 0.01\n"
     ]
    }
   ],
   "source": [
    "#Checking correlation between the features and the target variable(CV18 bins)\n",
    "from scipy import stats\n",
    "pb_corr, p_value = stats.pointbiserialr(a['Transaction_frequency'], td['CV_18 bins'])\n",
    "\n",
    "print(f\"Point biserial correlation coefficient: {pb_corr:.2f}\")\n",
    "print(f\"P-value: {p_value:.2f}\")"
   ]
  },
  {
   "cell_type": "code",
   "execution_count": 243,
   "id": "46ab03d0",
   "metadata": {},
   "outputs": [
    {
     "name": "stdout",
     "output_type": "stream",
     "text": [
      "Pearson correlation coefficient: 0.06\n",
      "p-value: 0.00\n"
     ]
    }
   ],
   "source": [
    "from scipy.stats import pearsonr\n",
    "\n",
    "corr, pval = pearsonr(Test1_data['num_transactions_category_group_Wants'], Test1_data['CV_18 bins'])\n",
    "\n",
    "print(\"Pearson correlation coefficient: {:.2f}\".format(corr))\n",
    "print(\"p-value: {:.2f}\".format(pval))\n"
   ]
  },
  {
   "cell_type": "code",
   "execution_count": 283,
   "id": "4799a0d3",
   "metadata": {},
   "outputs": [
    {
     "data": {
      "text/plain": [
       "Index(['Amount_sum', 'Amount_mean', 'Amount_min', 'Amount_max', 'Date_nunique',\n",
       "       'Category_nunique', 'Type_nunique', 'Transaction_frequency',\n",
       "       'Credit_score', 'Debt_to_income_ratio'],\n",
       "      dtype='object')"
      ]
     },
     "execution_count": 283,
     "metadata": {},
     "output_type": "execute_result"
    }
   ],
   "source": [
    "a.columns"
   ]
  },
  {
   "cell_type": "code",
   "execution_count": null,
   "id": "1f058ceb",
   "metadata": {},
   "outputs": [],
   "source": []
  },
  {
   "cell_type": "code",
   "execution_count": 139,
   "id": "ed8d392f",
   "metadata": {},
   "outputs": [
    {
     "name": "stdout",
     "output_type": "stream",
     "text": [
      "F-value: 0.011856883321134538\n",
      "p-value: 0.9132922491559884\n"
     ]
    }
   ],
   "source": [
    "import scipy.stats as stats\n",
    "\n",
    "# Group the data by the categorical variable and extract the continuous variable\n",
    "groups = Test1_data.groupby('CV_18 bins')['total_spending_monthly'].apply(list)\n",
    "\n",
    "# Perform the ANOVA test\n",
    "f_value, p_value = stats.f_oneway(*groups)\n",
    "\n",
    "print(\"F-value:\", f_value)\n",
    "print(\"p-value:\", p_value)\n"
   ]
  },
  {
   "cell_type": "code",
   "execution_count": 124,
   "id": "1147591b",
   "metadata": {},
   "outputs": [
    {
     "data": {
      "image/png": "[encoded data removed]",
      "text/plain": [
       "<Figure size 640x480 with 1 Axes>"
      ]
     },
     "metadata": {},
     "output_type": "display_data"
    }
   ],
   "source": [
    "import matplotlib.pyplot as plt\n",
    "\n",
    "plt.scatter(Test1_data['days_since_last_transaction'], Test1_data['CV_18 bins'])\n",
    "plt.xlabel('Days Since Last Transaction')\n",
    "plt.ylabel('CV_18')\n",
    "plt.show()\n"
   ]
  },
  {
   "cell_type": "code",
   "execution_count": null,
   "id": "cc0dbb56",
   "metadata": {},
   "outputs": [],
   "source": []
  }
 ],
 "metadata": {
  "kernelspec": {
   "display_name": "Python 3 (ipykernel)",
   "language": "python",
   "name": "python3"
  },
  "language_info": {
   "codemirror_mode": {
    "name": "ipython",
    "version": 3
   },
   "file_extension": ".py",
   "mimetype": "text/x-python",
   "name": "python",
   "nbconvert_exporter": "python",
   "pygments_lexer": "ipython3",
   "version": "3.10.9"
  }
 },
 "nbformat": 4,
 "nbformat_minor": 5
}
